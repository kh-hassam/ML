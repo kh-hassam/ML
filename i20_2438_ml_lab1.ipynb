{
 "cells": [
  {
   "cell_type": "code",
   "execution_count": 1,
   "id": "f3951531",
   "metadata": {},
   "outputs": [],
   "source": [
    "import numpy\n",
    "import pandas as pd"
   ]
  },
  {
   "cell_type": "code",
   "execution_count": 2,
   "id": "5ddc15c8",
   "metadata": {},
   "outputs": [
    {
     "name": "stderr",
     "output_type": "stream",
     "text": [
      "C:\\Users\\lenovo\\AppData\\Local\\Temp/ipykernel_9680/2633776174.py:2: ParserWarning: Falling back to the 'python' engine because the 'c' engine does not support regex separators (separators > 1 char and different from '\\s+' are interpreted as regex); you can avoid this warning by specifying engine='python'.\n",
      "  df2= pd.read_csv(\"ECG200_TRAIN.csv\",delimiter=\"  \")\n"
     ]
    }
   ],
   "source": [
    "df1= pd.read_csv(\"Medicine-Updated.csv\")\n",
    "df2= pd.read_csv(\"ECG200_TRAIN.csv\",delimiter=\"  \")"
   ]
  },
  {
   "cell_type": "code",
   "execution_count": 3,
   "id": "4d07e932",
   "metadata": {},
   "outputs": [],
   "source": [
    "cn=[]\n",
    "char='COL'\n",
    "for i in range(97):\n",
    "    c=str(i)\n",
    "    cn.append(char+c)"
   ]
  },
  {
   "cell_type": "code",
   "execution_count": 4,
   "id": "364e9a4b",
   "metadata": {},
   "outputs": [],
   "source": [
    "df2.columns=[cn]"
   ]
  },
  {
   "cell_type": "code",
   "execution_count": 5,
   "id": "309054c7",
   "metadata": {},
   "outputs": [],
   "source": [
    "df2.rename(columns={'COL0':'Labels'},inplace=True) "
   ]
  },
  {
   "cell_type": "code",
   "execution_count": 6,
   "id": "d870dd3f",
   "metadata": {},
   "outputs": [
    {
     "data": {
      "text/html": [
       "<div>\n",
       "<style scoped>\n",
       "    .dataframe tbody tr th:only-of-type {\n",
       "        vertical-align: middle;\n",
       "    }\n",
       "\n",
       "    .dataframe tbody tr th {\n",
       "        vertical-align: top;\n",
       "    }\n",
       "\n",
       "    .dataframe thead tr th {\n",
       "        text-align: left;\n",
       "    }\n",
       "</style>\n",
       "<table border=\"1\" class=\"dataframe\">\n",
       "  <thead>\n",
       "    <tr>\n",
       "      <th></th>\n",
       "      <th>Labels</th>\n",
       "      <th>COL1</th>\n",
       "      <th>COL2</th>\n",
       "      <th>COL3</th>\n",
       "      <th>COL4</th>\n",
       "      <th>COL5</th>\n",
       "      <th>COL6</th>\n",
       "      <th>COL7</th>\n",
       "      <th>COL8</th>\n",
       "      <th>COL9</th>\n",
       "      <th>...</th>\n",
       "      <th>COL87</th>\n",
       "      <th>COL88</th>\n",
       "      <th>COL89</th>\n",
       "      <th>COL90</th>\n",
       "      <th>COL91</th>\n",
       "      <th>COL92</th>\n",
       "      <th>COL93</th>\n",
       "      <th>COL94</th>\n",
       "      <th>COL95</th>\n",
       "      <th>COL96</th>\n",
       "    </tr>\n",
       "  </thead>\n",
       "  <tbody>\n",
       "    <tr>\n",
       "      <th>count</th>\n",
       "      <td>99.000000</td>\n",
       "      <td>99.000000</td>\n",
       "      <td>99.000000</td>\n",
       "      <td>99.000000</td>\n",
       "      <td>99.000000</td>\n",
       "      <td>99.000000</td>\n",
       "      <td>99.000000</td>\n",
       "      <td>99.000000</td>\n",
       "      <td>99.000000</td>\n",
       "      <td>99.000000</td>\n",
       "      <td>...</td>\n",
       "      <td>99.000000</td>\n",
       "      <td>99.000000</td>\n",
       "      <td>99.000000</td>\n",
       "      <td>99.000000</td>\n",
       "      <td>99.000000</td>\n",
       "      <td>99.000000</td>\n",
       "      <td>99.000000</td>\n",
       "      <td>99.000000</td>\n",
       "      <td>99.000000</td>\n",
       "      <td>99.000000</td>\n",
       "    </tr>\n",
       "    <tr>\n",
       "      <th>mean</th>\n",
       "      <td>0.393939</td>\n",
       "      <td>0.710522</td>\n",
       "      <td>1.431040</td>\n",
       "      <td>2.052450</td>\n",
       "      <td>2.133501</td>\n",
       "      <td>1.545708</td>\n",
       "      <td>0.746908</td>\n",
       "      <td>0.265944</td>\n",
       "      <td>0.322162</td>\n",
       "      <td>0.366550</td>\n",
       "      <td>...</td>\n",
       "      <td>0.182931</td>\n",
       "      <td>0.169882</td>\n",
       "      <td>0.200725</td>\n",
       "      <td>0.282462</td>\n",
       "      <td>0.410739</td>\n",
       "      <td>0.457547</td>\n",
       "      <td>0.386633</td>\n",
       "      <td>0.278600</td>\n",
       "      <td>0.177466</td>\n",
       "      <td>0.172248</td>\n",
       "    </tr>\n",
       "    <tr>\n",
       "      <th>std</th>\n",
       "      <td>0.923814</td>\n",
       "      <td>0.596165</td>\n",
       "      <td>0.928406</td>\n",
       "      <td>1.043681</td>\n",
       "      <td>1.102072</td>\n",
       "      <td>0.957754</td>\n",
       "      <td>0.955651</td>\n",
       "      <td>1.089434</td>\n",
       "      <td>0.874545</td>\n",
       "      <td>0.762903</td>\n",
       "      <td>...</td>\n",
       "      <td>0.398854</td>\n",
       "      <td>0.433959</td>\n",
       "      <td>0.454579</td>\n",
       "      <td>0.591501</td>\n",
       "      <td>0.775839</td>\n",
       "      <td>0.875285</td>\n",
       "      <td>0.835922</td>\n",
       "      <td>0.667561</td>\n",
       "      <td>0.620616</td>\n",
       "      <td>0.414917</td>\n",
       "    </tr>\n",
       "    <tr>\n",
       "      <th>min</th>\n",
       "      <td>-1.000000</td>\n",
       "      <td>-0.706305</td>\n",
       "      <td>-1.100715</td>\n",
       "      <td>-1.321589</td>\n",
       "      <td>-1.076313</td>\n",
       "      <td>-1.247922</td>\n",
       "      <td>-1.482391</td>\n",
       "      <td>-1.598712</td>\n",
       "      <td>-1.508060</td>\n",
       "      <td>-1.609777</td>\n",
       "      <td>...</td>\n",
       "      <td>-0.533503</td>\n",
       "      <td>-0.691436</td>\n",
       "      <td>-0.516631</td>\n",
       "      <td>-0.574304</td>\n",
       "      <td>-0.559178</td>\n",
       "      <td>-0.530917</td>\n",
       "      <td>-0.738019</td>\n",
       "      <td>-0.970796</td>\n",
       "      <td>-1.862314</td>\n",
       "      <td>-1.238622</td>\n",
       "    </tr>\n",
       "    <tr>\n",
       "      <th>25%</th>\n",
       "      <td>-1.000000</td>\n",
       "      <td>0.317978</td>\n",
       "      <td>0.791786</td>\n",
       "      <td>1.597707</td>\n",
       "      <td>1.520715</td>\n",
       "      <td>0.934032</td>\n",
       "      <td>0.016851</td>\n",
       "      <td>-0.610085</td>\n",
       "      <td>-0.477833</td>\n",
       "      <td>-0.079104</td>\n",
       "      <td>...</td>\n",
       "      <td>-0.131964</td>\n",
       "      <td>-0.143701</td>\n",
       "      <td>-0.122133</td>\n",
       "      <td>-0.149562</td>\n",
       "      <td>-0.073084</td>\n",
       "      <td>-0.099097</td>\n",
       "      <td>-0.111797</td>\n",
       "      <td>-0.119858</td>\n",
       "      <td>-0.131257</td>\n",
       "      <td>-0.048432</td>\n",
       "    </tr>\n",
       "    <tr>\n",
       "      <th>50%</th>\n",
       "      <td>1.000000</td>\n",
       "      <td>0.581277</td>\n",
       "      <td>1.237034</td>\n",
       "      <td>2.154536</td>\n",
       "      <td>2.235800</td>\n",
       "      <td>1.735496</td>\n",
       "      <td>0.560727</td>\n",
       "      <td>0.104841</td>\n",
       "      <td>0.352575</td>\n",
       "      <td>0.453166</td>\n",
       "      <td>...</td>\n",
       "      <td>0.082941</td>\n",
       "      <td>0.086670</td>\n",
       "      <td>0.103960</td>\n",
       "      <td>0.119056</td>\n",
       "      <td>0.163330</td>\n",
       "      <td>0.201845</td>\n",
       "      <td>0.101325</td>\n",
       "      <td>0.134269</td>\n",
       "      <td>0.124042</td>\n",
       "      <td>0.147889</td>\n",
       "    </tr>\n",
       "    <tr>\n",
       "      <th>75%</th>\n",
       "      <td>1.000000</td>\n",
       "      <td>0.996409</td>\n",
       "      <td>2.095711</td>\n",
       "      <td>2.708055</td>\n",
       "      <td>2.872853</td>\n",
       "      <td>2.165062</td>\n",
       "      <td>1.473131</td>\n",
       "      <td>1.223463</td>\n",
       "      <td>1.008394</td>\n",
       "      <td>0.964301</td>\n",
       "      <td>...</td>\n",
       "      <td>0.428192</td>\n",
       "      <td>0.435691</td>\n",
       "      <td>0.466163</td>\n",
       "      <td>0.590219</td>\n",
       "      <td>0.585567</td>\n",
       "      <td>0.599490</td>\n",
       "      <td>0.553665</td>\n",
       "      <td>0.541536</td>\n",
       "      <td>0.523024</td>\n",
       "      <td>0.414425</td>\n",
       "    </tr>\n",
       "    <tr>\n",
       "      <th>max</th>\n",
       "      <td>1.000000</td>\n",
       "      <td>2.689017</td>\n",
       "      <td>3.535038</td>\n",
       "      <td>3.850263</td>\n",
       "      <td>4.199145</td>\n",
       "      <td>3.720899</td>\n",
       "      <td>3.026452</td>\n",
       "      <td>2.454195</td>\n",
       "      <td>2.220327</td>\n",
       "      <td>2.122435</td>\n",
       "      <td>...</td>\n",
       "      <td>1.376751</td>\n",
       "      <td>1.497244</td>\n",
       "      <td>1.436900</td>\n",
       "      <td>2.190151</td>\n",
       "      <td>3.047309</td>\n",
       "      <td>3.269882</td>\n",
       "      <td>3.332053</td>\n",
       "      <td>2.653741</td>\n",
       "      <td>1.930880</td>\n",
       "      <td>1.372607</td>\n",
       "    </tr>\n",
       "  </tbody>\n",
       "</table>\n",
       "<p>8 rows × 97 columns</p>\n",
       "</div>"
      ],
      "text/plain": [
       "          Labels       COL1       COL2       COL3       COL4       COL5  \\\n",
       "count  99.000000  99.000000  99.000000  99.000000  99.000000  99.000000   \n",
       "mean    0.393939   0.710522   1.431040   2.052450   2.133501   1.545708   \n",
       "std     0.923814   0.596165   0.928406   1.043681   1.102072   0.957754   \n",
       "min    -1.000000  -0.706305  -1.100715  -1.321589  -1.076313  -1.247922   \n",
       "25%    -1.000000   0.317978   0.791786   1.597707   1.520715   0.934032   \n",
       "50%     1.000000   0.581277   1.237034   2.154536   2.235800   1.735496   \n",
       "75%     1.000000   0.996409   2.095711   2.708055   2.872853   2.165062   \n",
       "max     1.000000   2.689017   3.535038   3.850263   4.199145   3.720899   \n",
       "\n",
       "            COL6       COL7       COL8       COL9  ...      COL87      COL88  \\\n",
       "count  99.000000  99.000000  99.000000  99.000000  ...  99.000000  99.000000   \n",
       "mean    0.746908   0.265944   0.322162   0.366550  ...   0.182931   0.169882   \n",
       "std     0.955651   1.089434   0.874545   0.762903  ...   0.398854   0.433959   \n",
       "min    -1.482391  -1.598712  -1.508060  -1.609777  ...  -0.533503  -0.691436   \n",
       "25%     0.016851  -0.610085  -0.477833  -0.079104  ...  -0.131964  -0.143701   \n",
       "50%     0.560727   0.104841   0.352575   0.453166  ...   0.082941   0.086670   \n",
       "75%     1.473131   1.223463   1.008394   0.964301  ...   0.428192   0.435691   \n",
       "max     3.026452   2.454195   2.220327   2.122435  ...   1.376751   1.497244   \n",
       "\n",
       "           COL89      COL90      COL91      COL92      COL93      COL94  \\\n",
       "count  99.000000  99.000000  99.000000  99.000000  99.000000  99.000000   \n",
       "mean    0.200725   0.282462   0.410739   0.457547   0.386633   0.278600   \n",
       "std     0.454579   0.591501   0.775839   0.875285   0.835922   0.667561   \n",
       "min    -0.516631  -0.574304  -0.559178  -0.530917  -0.738019  -0.970796   \n",
       "25%    -0.122133  -0.149562  -0.073084  -0.099097  -0.111797  -0.119858   \n",
       "50%     0.103960   0.119056   0.163330   0.201845   0.101325   0.134269   \n",
       "75%     0.466163   0.590219   0.585567   0.599490   0.553665   0.541536   \n",
       "max     1.436900   2.190151   3.047309   3.269882   3.332053   2.653741   \n",
       "\n",
       "           COL95      COL96  \n",
       "count  99.000000  99.000000  \n",
       "mean    0.177466   0.172248  \n",
       "std     0.620616   0.414917  \n",
       "min    -1.862314  -1.238622  \n",
       "25%    -0.131257  -0.048432  \n",
       "50%     0.124042   0.147889  \n",
       "75%     0.523024   0.414425  \n",
       "max     1.930880   1.372607  \n",
       "\n",
       "[8 rows x 97 columns]"
      ]
     },
     "execution_count": 6,
     "metadata": {},
     "output_type": "execute_result"
    }
   ],
   "source": [
    "df2.describe()"
   ]
  },
  {
   "cell_type": "code",
   "execution_count": 7,
   "id": "b97ce06d",
   "metadata": {},
   "outputs": [
    {
     "data": {
      "text/plain": [
       "(Labels,)\n",
       " 1.0         69\n",
       "-1.0         30\n",
       "dtype: int64"
      ]
     },
     "execution_count": 7,
     "metadata": {},
     "output_type": "execute_result"
    }
   ],
   "source": [
    "df2['Labels'].value_counts()"
   ]
  },
  {
   "cell_type": "code",
   "execution_count": 8,
   "id": "5d8e1e61",
   "metadata": {},
   "outputs": [
    {
     "data": {
      "text/plain": [
       "array([[ 1.        ,  0.1476469 ,  0.8046684 , ...,  0.03685655,\n",
       "        -1.2650744 , -0.20802439],\n",
       "       [-1.        ,  0.31664616,  0.24319908, ...,  0.74884814,\n",
       "         0.81804204,  0.53934704],\n",
       "       [-1.        ,  1.1688741 ,  2.0759008 , ...,  1.2569493 ,\n",
       "         0.80040658,  0.73153981],\n",
       "       ...,\n",
       "       [-1.        ,  0.19767692,  0.45541658, ..., -0.1200061 ,\n",
       "         0.04242264,  0.34329344],\n",
       "       [ 1.        ,  0.17950028,  1.0384092 , ...,  0.15104997,\n",
       "         0.19337751,  0.45170853],\n",
       "       [ 1.        ,  0.07312418,  0.77605406, ..., -0.06668896,\n",
       "        -0.17844792, -0.25605159]])"
      ]
     },
     "execution_count": 8,
     "metadata": {},
     "output_type": "execute_result"
    }
   ],
   "source": [
    "num=df2.to_numpy()\n",
    "num"
   ]
  },
  {
   "cell_type": "markdown",
   "id": "d20b263b",
   "metadata": {},
   "source": [
    "# Train test split"
   ]
  },
  {
   "cell_type": "code",
   "execution_count": 9,
   "id": "d01283cb",
   "metadata": {},
   "outputs": [],
   "source": [
    "train1=[]\n",
    "train2=[]\n",
    "test1=[]\n",
    "test2=[]\n",
    "for i in range(99):\n",
    "    if num[i][0]==1:\n",
    "        if len(train1)<49:\n",
    "            train1.append(num[i])\n",
    "        elif (len(train1))>48:\n",
    "            test1.append(num[i])\n",
    "    else:\n",
    "        if len(train2)<22:\n",
    "            train2.append(num[i])\n",
    "        elif (len(train2))>21:\n",
    "            test2.append(num[i])"
   ]
  },
  {
   "cell_type": "code",
   "execution_count": 10,
   "id": "1c588c56",
   "metadata": {},
   "outputs": [],
   "source": [
    "train=train1+train2\n",
    "test=test1+test2"
   ]
  },
  {
   "cell_type": "code",
   "execution_count": 11,
   "id": "094c2736",
   "metadata": {},
   "outputs": [],
   "source": [
    "pos=train1+test1\n",
    "neg=train2+test2"
   ]
  },
  {
   "cell_type": "code",
   "execution_count": 12,
   "id": "60e73604",
   "metadata": {},
   "outputs": [],
   "source": [
    "train1=pos[:17]\n",
    "train2=pos[17:34]\n",
    "train3=pos[34:51]\n",
    "train4=pos[51:]"
   ]
  },
  {
   "cell_type": "code",
   "execution_count": 13,
   "id": "aadf12a1",
   "metadata": {},
   "outputs": [],
   "source": [
    "test1=neg[:7]\n",
    "test2=neg[7:14]\n",
    "test3=neg[14:21]\n",
    "test4=neg[21:]"
   ]
  },
  {
   "cell_type": "code",
   "execution_count": 14,
   "id": "69b0e9f8",
   "metadata": {},
   "outputs": [],
   "source": [
    "fs1=train1+test1\n",
    "fs2=train2+test2\n",
    "fs3=train3+test3\n",
    "fs4=train4+test4"
   ]
  },
  {
   "cell_type": "code",
   "execution_count": 15,
   "id": "015a7986",
   "metadata": {},
   "outputs": [],
   "source": [
    "train1=fs1+fs2+fs3\n",
    "test1=fs4\n",
    "train2=fs1+fs2+fs4\n",
    "test2=fs3\n",
    "train3=fs1+fs4+fs3\n",
    "test3=fs2\n",
    "train4=fs4+fs2+fs3\n",
    "test4=fs1"
   ]
  },
  {
   "cell_type": "code",
   "execution_count": 16,
   "id": "c014b344",
   "metadata": {},
   "outputs": [],
   "source": [
    "import sklearn\n",
    "from sklearn.neighbors import KNeighborsClassifier\n",
    "from sklearn.model_selection import train_test_split\n",
    "from sklearn.metrics import confusion_matrix\n",
    "from sklearn.metrics import accuracy_score\n",
    "from sklearn.metrics import f1_score\n",
    "from sklearn.metrics import classification_report"
   ]
  },
  {
   "cell_type": "code",
   "execution_count": 17,
   "id": "e1cc241b",
   "metadata": {},
   "outputs": [],
   "source": [
    "l1=[]\n",
    "l2=[]\n",
    "l3=[]\n",
    "l4=[]\n",
    "for i in range(len(train1)):\n",
    "    l1.append(train1[i][0])\n",
    "for i in range(len(train2)):\n",
    "    l2.append(train2[i][0])\n",
    "for i in range(len(train3)):\n",
    "    l3.append(train3[i][0])\n",
    "for i in range(len(train4)):\n",
    "    l4.append(train4[i][0])\n",
    "lab1=[]\n",
    "lab2=[]\n",
    "lab3=[]\n",
    "lab4=[]\n",
    "for i in range(len(test1)):\n",
    "    lab1.append(test1[i][0])\n",
    "for i in range(len(test2)):\n",
    "    lab2.append(test2[i][0])\n",
    "for i in range(len(test3)):\n",
    "    lab3.append(test3[i][0])\n",
    "for i in range(len(test4)):\n",
    "    lab4.append(test4[i][0])"
   ]
  },
  {
   "cell_type": "code",
   "execution_count": 18,
   "id": "6b82efc6",
   "metadata": {},
   "outputs": [],
   "source": [
    "for i in range(len(train1)):\n",
    "    train1[i]=train1[i][1:]\n",
    "for i in range(len(train2)):\n",
    "    train2[i]=train2[i][1:]\n",
    "for i in range(len(train3)):\n",
    "    train3[i]=train3[i][1:]\n",
    "for i in range(len(train4)):\n",
    "    train4[i]=train4[i][1:]\n",
    "for i in range(len(test1)):\n",
    "    test1[i]=test1[i][1:]\n",
    "for i in range(len(test2)):\n",
    "    test2[i]=test2[i][1:]\n",
    "for i in range(len(test3)):\n",
    "    test3[i]=test3[i][1:]\n",
    "for i in range(len(test4)):\n",
    "    test4[i]=test4[i][1:]"
   ]
  },
  {
   "cell_type": "code",
   "execution_count": 19,
   "id": "5df41129",
   "metadata": {},
   "outputs": [
    {
     "data": {
      "text/plain": [
       "KNeighborsClassifier(n_neighbors=2)"
      ]
     },
     "execution_count": 19,
     "metadata": {},
     "output_type": "execute_result"
    }
   ],
   "source": [
    "knn = KNeighborsClassifier(n_neighbors=2)\n",
    "knn.fit(train1,l1)"
   ]
  },
  {
   "cell_type": "raw",
   "id": "582a7202",
   "metadata": {},
   "source": [
    "from sklearn.naive_bayes import GaussianNB\n",
    "clf =GaussianNB()\n",
    "clf = clf.fit(X_train, y_train)\n",
    "\n",
    "filename = '20i-2438_04.pkl'\n",
    "pickle.dump(clf , open(filename,'wb'))\n",
    "\n",
    "pred=clf.predict(X_test)\n",
    "print (pred)\n",
    "clf.score(X_test,y_test)\n",
    "print (\"Accuracy : \" , accuracy_score(y_test,pred)*100)  \n",
    "print(\"Report : \\n\", classification_report(y_test, pred))\n",
    "print(\"F1 Score : \",f1_score(y_test, pred, average='macro')*100)"
   ]
  },
  {
   "cell_type": "code",
   "execution_count": 20,
   "id": "3b8d83ff",
   "metadata": {},
   "outputs": [
    {
     "name": "stdout",
     "output_type": "stream",
     "text": [
      "[ 1.  1.  1.  1.  1.  1.  1.  1.  1.  1.  1. -1.  1.  1. -1. -1.  1.  1.\n",
      " -1. -1. -1. -1.  1. -1. -1. -1. -1.]\n",
      "Accuracy :  85.18518518518519\n"
     ]
    }
   ],
   "source": [
    "pred=knn.predict(test1)\n",
    "print (pred)\n",
    "# clf.score(X_test,y_test)\n",
    "print (\"Accuracy : \" , accuracy_score(lab1,pred)*100) \n",
    "acc1=accuracy_score(lab1,pred)*100\n",
    "# print(\"Report : \\n\", classification_report(y_test, pred))\n",
    "# print(\"F1 Score : \",f1_score(y_test, pred, average='macro')*100)"
   ]
  },
  {
   "cell_type": "code",
   "execution_count": 21,
   "id": "4408fafa",
   "metadata": {},
   "outputs": [
    {
     "name": "stdout",
     "output_type": "stream",
     "text": [
      "[ 1. -1.  1.  1.  1.  1.  1.  1. -1.  1.  1.  1.  1.  1.  1.  1.  1. -1.\n",
      " -1. -1. -1. -1.  1.  1.]\n",
      "Accuracy :  83.33333333333334\n"
     ]
    }
   ],
   "source": [
    "knn.fit(train2,l2)\n",
    "pred=knn.predict(test2)\n",
    "print (pred)\n",
    "print (\"Accuracy : \" , accuracy_score(lab2,pred)*100)\n",
    "acc2=accuracy_score(lab2,pred)*100"
   ]
  },
  {
   "cell_type": "code",
   "execution_count": 22,
   "id": "264557e4",
   "metadata": {},
   "outputs": [
    {
     "name": "stdout",
     "output_type": "stream",
     "text": [
      "[ 1.  1.  1.  1.  1.  1.  1.  1.  1.  1. -1.  1.  1. -1.  1.  1.  1. -1.\n",
      " -1. -1. -1. -1.  1. -1.]\n",
      "Accuracy :  87.5\n",
      "[ 1.  1.  1.  1.  1.  1.  1. -1.  1.  1.  1.  1. -1.  1.  1.  1. -1. -1.\n",
      " -1. -1. -1. -1. -1. -1.]\n",
      "Accuracy :  87.5\n"
     ]
    }
   ],
   "source": [
    "knn.fit(train3,l3)\n",
    "pred=knn.predict(test3)\n",
    "print (pred)\n",
    "print (\"Accuracy : \" , accuracy_score(lab3,pred)*100)  \n",
    "acc3=accuracy_score(lab3,pred)*100\n",
    "knn.fit(train4,l4)\n",
    "pred=knn.predict(test4)\n",
    "print (pred)\n",
    "print (\"Accuracy : \" , accuracy_score(lab4,pred)*100)\n",
    "acc4=accuracy_score(lab4,pred)*100"
   ]
  },
  {
   "cell_type": "code",
   "execution_count": 23,
   "id": "4d6e1520",
   "metadata": {},
   "outputs": [
    {
     "data": {
      "text/plain": [
       "85.87962962962963"
      ]
     },
     "execution_count": 23,
     "metadata": {},
     "output_type": "execute_result"
    }
   ],
   "source": [
    "#average\n",
    "acc=(acc1+acc2+acc3+acc4)/4\n",
    "acc"
   ]
  },
  {
   "cell_type": "markdown",
   "id": "269ffe48",
   "metadata": {},
   "source": [
    "# auto split"
   ]
  },
  {
   "cell_type": "code",
   "execution_count": 24,
   "id": "c40c5e7a",
   "metadata": {},
   "outputs": [],
   "source": [
    "lab=[]\n",
    "X=[]\n",
    "for i in range(len(num)):\n",
    "    lab.append(num[i][0])\n",
    "for i in range(len(num)):\n",
    "    X.append(num[i][1:])"
   ]
  },
  {
   "cell_type": "code",
   "execution_count": 25,
   "id": "f7dee5f9",
   "metadata": {},
   "outputs": [],
   "source": [
    "from sklearn.model_selection import cross_val_score\n",
    "scoree = cross_val_score(knn, X, lab, cv=4)"
   ]
  },
  {
   "cell_type": "code",
   "execution_count": 26,
   "id": "f928d38a",
   "metadata": {},
   "outputs": [
    {
     "data": {
      "text/plain": [
       "array([88.        , 88.        , 84.        , 83.33333333])"
      ]
     },
     "execution_count": 26,
     "metadata": {},
     "output_type": "execute_result"
    }
   ],
   "source": [
    "score=scoree*100\n",
    "score"
   ]
  },
  {
   "cell_type": "code",
   "execution_count": 27,
   "id": "2e3067e5",
   "metadata": {},
   "outputs": [
    {
     "data": {
      "text/plain": [
       "85.83333333333334"
      ]
     },
     "execution_count": 27,
     "metadata": {},
     "output_type": "execute_result"
    }
   ],
   "source": [
    "sum(score) / len(score)"
   ]
  },
  {
   "cell_type": "code",
   "execution_count": 30,
   "id": "438c6cff",
   "metadata": {},
   "outputs": [
    {
     "name": "stdout",
     "output_type": "stream",
     "text": [
      "[ 1. -1. -1. -1.  1. -1.  1. -1. -1.  1.  1.  1.  1. -1.  1.  1. -1.  1.\n",
      " -1.  1.  1.  1.  1.  1. -1.  1. -1.  1.  1.  1. -1.  1.  1.]\n",
      "Accuracy :  78.78787878787878\n",
      "Report : \n",
      "               precision    recall  f1-score   support\n",
      "\n",
      "        -1.0       0.50      0.86      0.63         7\n",
      "         1.0       0.95      0.77      0.85        26\n",
      "\n",
      "    accuracy                           0.79        33\n",
      "   macro avg       0.73      0.81      0.74        33\n",
      "weighted avg       0.86      0.79      0.80        33\n",
      "\n",
      "F1 Score :  74.13213885778275\n"
     ]
    }
   ],
   "source": [
    "from sklearn.model_selection import train_test_split\n",
    "X_train, X_test, y_train, y_test = train_test_split(X, lab, test_size=0.33, random_state=42)\n",
    "knn.fit(X_train,y_train)\n",
    "pred=knn.predict(X_test)\n",
    "print (pred)\n",
    "knn.score(X_test,y_test)\n",
    "print (\"Accuracy : \" , accuracy_score(y_test,pred)*100)  \n",
    "print(\"Report : \\n\", classification_report(y_test, pred))\n",
    "print(\"F1 Score : \",f1_score(y_test, pred, average='macro')*100)"
   ]
  },
  {
   "cell_type": "code",
   "execution_count": null,
   "id": "1c61eed7",
   "metadata": {},
   "outputs": [],
   "source": []
  }
 ],
 "metadata": {
  "kernelspec": {
   "display_name": "Python 3 (ipykernel)",
   "language": "python",
   "name": "python3"
  },
  "language_info": {
   "codemirror_mode": {
    "name": "ipython",
    "version": 3
   },
   "file_extension": ".py",
   "mimetype": "text/x-python",
   "name": "python",
   "nbconvert_exporter": "python",
   "pygments_lexer": "ipython3",
   "version": "3.8.8"
  }
 },
 "nbformat": 4,
 "nbformat_minor": 5
}
